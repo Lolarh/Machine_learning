{
 "cells": [
  {
   "cell_type": "markdown",
   "id": "def83687-dd04-48b9-8ae7-10b0b0d11714",
   "metadata": {},
   "source": [
    "### Load Libraries"
   ]
  },
  {
   "cell_type": "code",
   "execution_count": 199,
   "id": "932dd10e-a914-47b7-a9e5-3edc8b6c6574",
   "metadata": {},
   "outputs": [],
   "source": [
    "import pandas as pd\n",
    "import numpy as np\n",
    "import matplotlib.pyplot as plt\n",
    "from sklearn.model_selection import train_test_split\n",
    "from sklearn.impute import SimpleImputer\n",
    "from sklearn.pipeline import Pipeline #To compact necessary steps at once\n",
    "from sklearn.preprocessing import StandardScaler #For Scaling\n",
    "from sklearn.compose import ColumnTransformer\n",
    "from sklearn.preprocessing import OneHotEncoder\n",
    "from sklearn.linear_model import LinearRegression\n",
    "from sklearn.model_selection import cross_val_score\n",
    "from sklearn.tree import DecisionTreeRegressor\n",
    "\n"
   ]
  },
  {
   "cell_type": "markdown",
   "id": "bf3392a1-1f2d-4bcb-9693-14f0bae838be",
   "metadata": {},
   "source": [
    "### Import the Data\n",
    "The housing data"
   ]
  },
  {
   "cell_type": "code",
   "execution_count": 200,
   "id": "571018b6-56d8-4d90-b4b5-b0be60674051",
   "metadata": {},
   "outputs": [
    {
     "name": "stdout",
     "output_type": "stream",
     "text": [
      "Downloading housing data...\n",
      "Download complete.\n",
      "Extracting housing data...\n",
      "Extraction complete.\n"
     ]
    }
   ],
   "source": [
    "\n",
    "import os\n",
    "import tarfile\n",
    "from urllib.request import urlretrieve  # Direct import for modern Python versions\n",
    "\n",
    "DOWNLOAD_ROOT = \"https://raw.githubusercontent.com/ageron/handson-ml2/master/\"\n",
    "HOUSING_PATH = os.path.join(\"datasets\", \"housing\")\n",
    "HOUSING_URL = DOWNLOAD_ROOT + \"datasets/housing/housing.tgz\"\n",
    "\n",
    "def fetch_housing_data(housing_url=HOUSING_URL, housing_path=HOUSING_PATH):\n",
    "    \"\"\"Fetch and extract housing data from the given URL.\"\"\"\n",
    "    if not os.path.isdir(housing_path):\n",
    "        os.makedirs(housing_path)\n",
    "    \n",
    "    tgz_path = os.path.join(housing_path, \"housing.tgz\")\n",
    "    \n",
    "    try:\n",
    "        print(\"Downloading housing data...\")\n",
    "        urlretrieve(housing_url, tgz_path)\n",
    "        print(\"Download complete.\")\n",
    "    except Exception as e:\n",
    "        print(f\"An error occurred while downloading the data: {e}\")\n",
    "        return\n",
    "    \n",
    "    try:\n",
    "        print(\"Extracting housing data...\")\n",
    "        with tarfile.open(tgz_path) as housing_tgz:\n",
    "            housing_tgz.extractall(path=housing_path)\n",
    "        print(\"Extraction complete.\")\n",
    "    except Exception as e:\n",
    "        print(f\"An error occurred while extracting the data: {e}\")\n",
    "\n",
    "# To run the function\n",
    "fetch_housing_data()\n"
   ]
  },
  {
   "cell_type": "markdown",
   "id": "0166efa2-7e56-40db-ae97-261b93ac4781",
   "metadata": {},
   "source": [
    "### Loading the dataset"
   ]
  },
  {
   "cell_type": "code",
   "execution_count": 201,
   "id": "cb17d3e9-895b-4962-a99e-ba5e7ca77e7e",
   "metadata": {},
   "outputs": [
    {
     "name": "stdout",
     "output_type": "stream",
     "text": [
      "Downloading housing data...\n",
      "Download complete.\n",
      "Extracting housing data...\n",
      "Extraction complete.\n",
      "   longitude  latitude  housing_median_age  total_rooms  total_bedrooms  \\\n",
      "0    -122.23     37.88                41.0        880.0           129.0   \n",
      "1    -122.22     37.86                21.0       7099.0          1106.0   \n",
      "2    -122.24     37.85                52.0       1467.0           190.0   \n",
      "3    -122.25     37.85                52.0       1274.0           235.0   \n",
      "4    -122.25     37.85                52.0       1627.0           280.0   \n",
      "\n",
      "   population  households  median_income  median_house_value ocean_proximity  \n",
      "0       322.0       126.0         8.3252            452600.0        NEAR BAY  \n",
      "1      2401.0      1138.0         8.3014            358500.0        NEAR BAY  \n",
      "2       496.0       177.0         7.2574            352100.0        NEAR BAY  \n",
      "3       558.0       219.0         5.6431            341300.0        NEAR BAY  \n",
      "4       565.0       259.0         3.8462            342200.0        NEAR BAY  \n"
     ]
    }
   ],
   "source": [
    "def load_housing_data(housing_path=HOUSING_PATH):\n",
    "    \"\"\"Load housing data from a CSV file.\"\"\"\n",
    "    csv_path = os.path.join(housing_path, \"housing.csv\")\n",
    "    return pd.read_csv(csv_path)\n",
    "\n",
    "# Example usage\n",
    "if __name__ == \"__main__\":\n",
    "    # Ensure that the data is fetched and extracted before loading\n",
    "    fetch_housing_data()  # Ensure this function is defined and working\n",
    "    housing_data = load_housing_data()\n",
    "    print(housing_data.head())\n"
   ]
  },
  {
   "cell_type": "markdown",
   "id": "90f8e53a-a565-4fda-8e0b-76aa689eae6d",
   "metadata": {},
   "source": [
    "### Data Exploration\n",
    "\n",
    "* Are there missing values?\n",
    "* Are there correlations?\n",
    "* Checking more particularly for the Label or dependent variable\n",
    "* Are some general variables better when checked individually or in combination with other attributes?\n",
    "* Is there a need for normalisation especially for visually skewed attributes?\n",
    "* Is it necessary to stratify numeric data, especially if it will be useful for labelling?"
   ]
  },
  {
   "cell_type": "code",
   "execution_count": 202,
   "id": "5c9b59f6-0b38-447e-bbc4-239e2e83600d",
   "metadata": {},
   "outputs": [
    {
     "data": {
      "text/html": [
       "<div>\n",
       "<style scoped>\n",
       "    .dataframe tbody tr th:only-of-type {\n",
       "        vertical-align: middle;\n",
       "    }\n",
       "\n",
       "    .dataframe tbody tr th {\n",
       "        vertical-align: top;\n",
       "    }\n",
       "\n",
       "    .dataframe thead th {\n",
       "        text-align: right;\n",
       "    }\n",
       "</style>\n",
       "<table border=\"1\" class=\"dataframe\">\n",
       "  <thead>\n",
       "    <tr style=\"text-align: right;\">\n",
       "      <th></th>\n",
       "      <th>longitude</th>\n",
       "      <th>latitude</th>\n",
       "      <th>housing_median_age</th>\n",
       "      <th>total_rooms</th>\n",
       "      <th>total_bedrooms</th>\n",
       "      <th>population</th>\n",
       "      <th>households</th>\n",
       "      <th>median_income</th>\n",
       "      <th>median_house_value</th>\n",
       "      <th>ocean_proximity</th>\n",
       "    </tr>\n",
       "  </thead>\n",
       "  <tbody>\n",
       "    <tr>\n",
       "      <th>0</th>\n",
       "      <td>-122.23</td>\n",
       "      <td>37.88</td>\n",
       "      <td>41.0</td>\n",
       "      <td>880.0</td>\n",
       "      <td>129.0</td>\n",
       "      <td>322.0</td>\n",
       "      <td>126.0</td>\n",
       "      <td>8.3252</td>\n",
       "      <td>452600.0</td>\n",
       "      <td>NEAR BAY</td>\n",
       "    </tr>\n",
       "    <tr>\n",
       "      <th>1</th>\n",
       "      <td>-122.22</td>\n",
       "      <td>37.86</td>\n",
       "      <td>21.0</td>\n",
       "      <td>7099.0</td>\n",
       "      <td>1106.0</td>\n",
       "      <td>2401.0</td>\n",
       "      <td>1138.0</td>\n",
       "      <td>8.3014</td>\n",
       "      <td>358500.0</td>\n",
       "      <td>NEAR BAY</td>\n",
       "    </tr>\n",
       "    <tr>\n",
       "      <th>2</th>\n",
       "      <td>-122.24</td>\n",
       "      <td>37.85</td>\n",
       "      <td>52.0</td>\n",
       "      <td>1467.0</td>\n",
       "      <td>190.0</td>\n",
       "      <td>496.0</td>\n",
       "      <td>177.0</td>\n",
       "      <td>7.2574</td>\n",
       "      <td>352100.0</td>\n",
       "      <td>NEAR BAY</td>\n",
       "    </tr>\n",
       "    <tr>\n",
       "      <th>3</th>\n",
       "      <td>-122.25</td>\n",
       "      <td>37.85</td>\n",
       "      <td>52.0</td>\n",
       "      <td>1274.0</td>\n",
       "      <td>235.0</td>\n",
       "      <td>558.0</td>\n",
       "      <td>219.0</td>\n",
       "      <td>5.6431</td>\n",
       "      <td>341300.0</td>\n",
       "      <td>NEAR BAY</td>\n",
       "    </tr>\n",
       "    <tr>\n",
       "      <th>4</th>\n",
       "      <td>-122.25</td>\n",
       "      <td>37.85</td>\n",
       "      <td>52.0</td>\n",
       "      <td>1627.0</td>\n",
       "      <td>280.0</td>\n",
       "      <td>565.0</td>\n",
       "      <td>259.0</td>\n",
       "      <td>3.8462</td>\n",
       "      <td>342200.0</td>\n",
       "      <td>NEAR BAY</td>\n",
       "    </tr>\n",
       "    <tr>\n",
       "      <th>5</th>\n",
       "      <td>-122.25</td>\n",
       "      <td>37.85</td>\n",
       "      <td>52.0</td>\n",
       "      <td>919.0</td>\n",
       "      <td>213.0</td>\n",
       "      <td>413.0</td>\n",
       "      <td>193.0</td>\n",
       "      <td>4.0368</td>\n",
       "      <td>269700.0</td>\n",
       "      <td>NEAR BAY</td>\n",
       "    </tr>\n",
       "    <tr>\n",
       "      <th>6</th>\n",
       "      <td>-122.25</td>\n",
       "      <td>37.84</td>\n",
       "      <td>52.0</td>\n",
       "      <td>2535.0</td>\n",
       "      <td>489.0</td>\n",
       "      <td>1094.0</td>\n",
       "      <td>514.0</td>\n",
       "      <td>3.6591</td>\n",
       "      <td>299200.0</td>\n",
       "      <td>NEAR BAY</td>\n",
       "    </tr>\n",
       "    <tr>\n",
       "      <th>7</th>\n",
       "      <td>-122.25</td>\n",
       "      <td>37.84</td>\n",
       "      <td>52.0</td>\n",
       "      <td>3104.0</td>\n",
       "      <td>687.0</td>\n",
       "      <td>1157.0</td>\n",
       "      <td>647.0</td>\n",
       "      <td>3.1200</td>\n",
       "      <td>241400.0</td>\n",
       "      <td>NEAR BAY</td>\n",
       "    </tr>\n",
       "    <tr>\n",
       "      <th>8</th>\n",
       "      <td>-122.26</td>\n",
       "      <td>37.84</td>\n",
       "      <td>42.0</td>\n",
       "      <td>2555.0</td>\n",
       "      <td>665.0</td>\n",
       "      <td>1206.0</td>\n",
       "      <td>595.0</td>\n",
       "      <td>2.0804</td>\n",
       "      <td>226700.0</td>\n",
       "      <td>NEAR BAY</td>\n",
       "    </tr>\n",
       "    <tr>\n",
       "      <th>9</th>\n",
       "      <td>-122.25</td>\n",
       "      <td>37.84</td>\n",
       "      <td>52.0</td>\n",
       "      <td>3549.0</td>\n",
       "      <td>707.0</td>\n",
       "      <td>1551.0</td>\n",
       "      <td>714.0</td>\n",
       "      <td>3.6912</td>\n",
       "      <td>261100.0</td>\n",
       "      <td>NEAR BAY</td>\n",
       "    </tr>\n",
       "  </tbody>\n",
       "</table>\n",
       "</div>"
      ],
      "text/plain": [
       "   longitude  latitude  housing_median_age  total_rooms  total_bedrooms  \\\n",
       "0    -122.23     37.88                41.0        880.0           129.0   \n",
       "1    -122.22     37.86                21.0       7099.0          1106.0   \n",
       "2    -122.24     37.85                52.0       1467.0           190.0   \n",
       "3    -122.25     37.85                52.0       1274.0           235.0   \n",
       "4    -122.25     37.85                52.0       1627.0           280.0   \n",
       "5    -122.25     37.85                52.0        919.0           213.0   \n",
       "6    -122.25     37.84                52.0       2535.0           489.0   \n",
       "7    -122.25     37.84                52.0       3104.0           687.0   \n",
       "8    -122.26     37.84                42.0       2555.0           665.0   \n",
       "9    -122.25     37.84                52.0       3549.0           707.0   \n",
       "\n",
       "   population  households  median_income  median_house_value ocean_proximity  \n",
       "0       322.0       126.0         8.3252            452600.0        NEAR BAY  \n",
       "1      2401.0      1138.0         8.3014            358500.0        NEAR BAY  \n",
       "2       496.0       177.0         7.2574            352100.0        NEAR BAY  \n",
       "3       558.0       219.0         5.6431            341300.0        NEAR BAY  \n",
       "4       565.0       259.0         3.8462            342200.0        NEAR BAY  \n",
       "5       413.0       193.0         4.0368            269700.0        NEAR BAY  \n",
       "6      1094.0       514.0         3.6591            299200.0        NEAR BAY  \n",
       "7      1157.0       647.0         3.1200            241400.0        NEAR BAY  \n",
       "8      1206.0       595.0         2.0804            226700.0        NEAR BAY  \n",
       "9      1551.0       714.0         3.6912            261100.0        NEAR BAY  "
      ]
     },
     "execution_count": 202,
     "metadata": {},
     "output_type": "execute_result"
    }
   ],
   "source": [
    "housing_data.head(10)"
   ]
  },
  {
   "cell_type": "code",
   "execution_count": 203,
   "id": "2379dcdc-8c7a-41c0-a42d-fbd32cffcfe6",
   "metadata": {},
   "outputs": [],
   "source": [
    "#housing_id = housing_data.reset_index()\n",
    "#housing_data['index_id'] = housing_data.index"
   ]
  },
  {
   "cell_type": "code",
   "execution_count": 204,
   "id": "1fa2a576-5eb1-4e7f-bdfd-e5662cda273b",
   "metadata": {},
   "outputs": [
    {
     "name": "stdout",
     "output_type": "stream",
     "text": [
      "<class 'pandas.core.frame.DataFrame'>\n",
      "RangeIndex: 20640 entries, 0 to 20639\n",
      "Data columns (total 10 columns):\n",
      " #   Column              Non-Null Count  Dtype  \n",
      "---  ------              --------------  -----  \n",
      " 0   longitude           20640 non-null  float64\n",
      " 1   latitude            20640 non-null  float64\n",
      " 2   housing_median_age  20640 non-null  float64\n",
      " 3   total_rooms         20640 non-null  float64\n",
      " 4   total_bedrooms      20433 non-null  float64\n",
      " 5   population          20640 non-null  float64\n",
      " 6   households          20640 non-null  float64\n",
      " 7   median_income       20640 non-null  float64\n",
      " 8   median_house_value  20640 non-null  float64\n",
      " 9   ocean_proximity     20640 non-null  object \n",
      "dtypes: float64(9), object(1)\n",
      "memory usage: 1.6+ MB\n"
     ]
    }
   ],
   "source": [
    "housing_data.info()"
   ]
  },
  {
   "cell_type": "markdown",
   "id": "88d617ed-a017-4f10-bc31-65fd4e11a2e3",
   "metadata": {},
   "source": [
    "##### Shows they all have 20640 rows except for total bedrooms, indicating possible missing values. Also, all the columns are numeric except for ocean_proximity which indicates, possible categorical data\n"
   ]
  },
  {
   "cell_type": "markdown",
   "id": "b90aaeff-ecc9-4f2a-ba49-c4ec07a34c91",
   "metadata": {},
   "source": [
    "##### Checking for Numeric Data"
   ]
  },
  {
   "cell_type": "code",
   "execution_count": 205,
   "id": "7005595a-c92f-49e7-938f-0f1784e9999c",
   "metadata": {},
   "outputs": [
    {
     "data": {
      "text/plain": [
       "array(['NEAR BAY', '<1H OCEAN', 'INLAND', 'NEAR OCEAN', 'ISLAND'],\n",
       "      dtype=object)"
      ]
     },
     "execution_count": 205,
     "metadata": {},
     "output_type": "execute_result"
    }
   ],
   "source": [
    "housing_data[\"ocean_proximity\"].unique()"
   ]
  },
  {
   "cell_type": "code",
   "execution_count": 206,
   "id": "1e6b3732-4326-483e-8240-5fe0c10df296",
   "metadata": {},
   "outputs": [
    {
     "data": {
      "text/plain": [
       "longitude               0\n",
       "latitude                0\n",
       "housing_median_age      0\n",
       "total_rooms             0\n",
       "total_bedrooms        207\n",
       "population              0\n",
       "households              0\n",
       "median_income           0\n",
       "median_house_value      0\n",
       "ocean_proximity         0\n",
       "dtype: int64"
      ]
     },
     "execution_count": 206,
     "metadata": {},
     "output_type": "execute_result"
    }
   ],
   "source": [
    "housing_data.isnull().sum()"
   ]
  },
  {
   "cell_type": "code",
   "execution_count": 207,
   "id": "71a10c6a-67f3-484e-94c8-7600c31d9447",
   "metadata": {},
   "outputs": [
    {
     "data": {
      "text/html": [
       "<div>\n",
       "<style scoped>\n",
       "    .dataframe tbody tr th:only-of-type {\n",
       "        vertical-align: middle;\n",
       "    }\n",
       "\n",
       "    .dataframe tbody tr th {\n",
       "        vertical-align: top;\n",
       "    }\n",
       "\n",
       "    .dataframe thead th {\n",
       "        text-align: right;\n",
       "    }\n",
       "</style>\n",
       "<table border=\"1\" class=\"dataframe\">\n",
       "  <thead>\n",
       "    <tr style=\"text-align: right;\">\n",
       "      <th></th>\n",
       "      <th>longitude</th>\n",
       "      <th>latitude</th>\n",
       "      <th>housing_median_age</th>\n",
       "      <th>total_rooms</th>\n",
       "      <th>total_bedrooms</th>\n",
       "      <th>population</th>\n",
       "      <th>households</th>\n",
       "      <th>median_income</th>\n",
       "      <th>median_house_value</th>\n",
       "    </tr>\n",
       "  </thead>\n",
       "  <tbody>\n",
       "    <tr>\n",
       "      <th>count</th>\n",
       "      <td>20640.000000</td>\n",
       "      <td>20640.000000</td>\n",
       "      <td>20640.000000</td>\n",
       "      <td>20640.000000</td>\n",
       "      <td>20433.000000</td>\n",
       "      <td>20640.000000</td>\n",
       "      <td>20640.000000</td>\n",
       "      <td>20640.000000</td>\n",
       "      <td>20640.000000</td>\n",
       "    </tr>\n",
       "    <tr>\n",
       "      <th>mean</th>\n",
       "      <td>-119.569704</td>\n",
       "      <td>35.631861</td>\n",
       "      <td>28.639486</td>\n",
       "      <td>2635.763081</td>\n",
       "      <td>537.870553</td>\n",
       "      <td>1425.476744</td>\n",
       "      <td>499.539680</td>\n",
       "      <td>3.870671</td>\n",
       "      <td>206855.816909</td>\n",
       "    </tr>\n",
       "    <tr>\n",
       "      <th>std</th>\n",
       "      <td>2.003532</td>\n",
       "      <td>2.135952</td>\n",
       "      <td>12.585558</td>\n",
       "      <td>2181.615252</td>\n",
       "      <td>421.385070</td>\n",
       "      <td>1132.462122</td>\n",
       "      <td>382.329753</td>\n",
       "      <td>1.899822</td>\n",
       "      <td>115395.615874</td>\n",
       "    </tr>\n",
       "    <tr>\n",
       "      <th>min</th>\n",
       "      <td>-124.350000</td>\n",
       "      <td>32.540000</td>\n",
       "      <td>1.000000</td>\n",
       "      <td>2.000000</td>\n",
       "      <td>1.000000</td>\n",
       "      <td>3.000000</td>\n",
       "      <td>1.000000</td>\n",
       "      <td>0.499900</td>\n",
       "      <td>14999.000000</td>\n",
       "    </tr>\n",
       "    <tr>\n",
       "      <th>25%</th>\n",
       "      <td>-121.800000</td>\n",
       "      <td>33.930000</td>\n",
       "      <td>18.000000</td>\n",
       "      <td>1447.750000</td>\n",
       "      <td>296.000000</td>\n",
       "      <td>787.000000</td>\n",
       "      <td>280.000000</td>\n",
       "      <td>2.563400</td>\n",
       "      <td>119600.000000</td>\n",
       "    </tr>\n",
       "    <tr>\n",
       "      <th>50%</th>\n",
       "      <td>-118.490000</td>\n",
       "      <td>34.260000</td>\n",
       "      <td>29.000000</td>\n",
       "      <td>2127.000000</td>\n",
       "      <td>435.000000</td>\n",
       "      <td>1166.000000</td>\n",
       "      <td>409.000000</td>\n",
       "      <td>3.534800</td>\n",
       "      <td>179700.000000</td>\n",
       "    </tr>\n",
       "    <tr>\n",
       "      <th>75%</th>\n",
       "      <td>-118.010000</td>\n",
       "      <td>37.710000</td>\n",
       "      <td>37.000000</td>\n",
       "      <td>3148.000000</td>\n",
       "      <td>647.000000</td>\n",
       "      <td>1725.000000</td>\n",
       "      <td>605.000000</td>\n",
       "      <td>4.743250</td>\n",
       "      <td>264725.000000</td>\n",
       "    </tr>\n",
       "    <tr>\n",
       "      <th>max</th>\n",
       "      <td>-114.310000</td>\n",
       "      <td>41.950000</td>\n",
       "      <td>52.000000</td>\n",
       "      <td>39320.000000</td>\n",
       "      <td>6445.000000</td>\n",
       "      <td>35682.000000</td>\n",
       "      <td>6082.000000</td>\n",
       "      <td>15.000100</td>\n",
       "      <td>500001.000000</td>\n",
       "    </tr>\n",
       "  </tbody>\n",
       "</table>\n",
       "</div>"
      ],
      "text/plain": [
       "          longitude      latitude  housing_median_age   total_rooms  \\\n",
       "count  20640.000000  20640.000000        20640.000000  20640.000000   \n",
       "mean    -119.569704     35.631861           28.639486   2635.763081   \n",
       "std        2.003532      2.135952           12.585558   2181.615252   \n",
       "min     -124.350000     32.540000            1.000000      2.000000   \n",
       "25%     -121.800000     33.930000           18.000000   1447.750000   \n",
       "50%     -118.490000     34.260000           29.000000   2127.000000   \n",
       "75%     -118.010000     37.710000           37.000000   3148.000000   \n",
       "max     -114.310000     41.950000           52.000000  39320.000000   \n",
       "\n",
       "       total_bedrooms    population    households  median_income  \\\n",
       "count    20433.000000  20640.000000  20640.000000   20640.000000   \n",
       "mean       537.870553   1425.476744    499.539680       3.870671   \n",
       "std        421.385070   1132.462122    382.329753       1.899822   \n",
       "min          1.000000      3.000000      1.000000       0.499900   \n",
       "25%        296.000000    787.000000    280.000000       2.563400   \n",
       "50%        435.000000   1166.000000    409.000000       3.534800   \n",
       "75%        647.000000   1725.000000    605.000000       4.743250   \n",
       "max       6445.000000  35682.000000   6082.000000      15.000100   \n",
       "\n",
       "       median_house_value  \n",
       "count        20640.000000  \n",
       "mean        206855.816909  \n",
       "std         115395.615874  \n",
       "min          14999.000000  \n",
       "25%         119600.000000  \n",
       "50%         179700.000000  \n",
       "75%         264725.000000  \n",
       "max         500001.000000  "
      ]
     },
     "execution_count": 207,
     "metadata": {},
     "output_type": "execute_result"
    }
   ],
   "source": [
    "#Numeric data checks\n",
    "housing_data.describe()"
   ]
  },
  {
   "cell_type": "markdown",
   "id": "4480eb4c-8301-4dbd-af26-4e54bb9e64ef",
   "metadata": {},
   "source": [
    "##### Checking the Categorical data"
   ]
  },
  {
   "cell_type": "code",
   "execution_count": 208,
   "id": "08603b5b-a5cb-4cf4-b1bd-316c968a9446",
   "metadata": {},
   "outputs": [
    {
     "data": {
      "text/plain": [
       "ocean_proximity\n",
       "<1H OCEAN     9136\n",
       "INLAND        6551\n",
       "NEAR OCEAN    2658\n",
       "NEAR BAY      2290\n",
       "ISLAND           5\n",
       "Name: count, dtype: int64"
      ]
     },
     "execution_count": 208,
     "metadata": {},
     "output_type": "execute_result"
    }
   ],
   "source": [
    "#Categorical data checks\n",
    "housing_data['ocean_proximity'].value_counts()"
   ]
  },
  {
   "cell_type": "code",
   "execution_count": 209,
   "id": "166ed2e2-8c00-4e0e-ae85-c058fdc081cb",
   "metadata": {},
   "outputs": [
    {
     "data": {
      "image/png": "[encoded data removed]",
      "text/plain": [
       "<Figure size 2400x1500 with 9 Axes>"
      ]
     },
     "metadata": {},
     "output_type": "display_data"
    }
   ],
   "source": [
    "housing_data.hist(bins=50, figsize=(24,15), color=\"red\", alpha = 0.8)\n",
    "plt.show()"
   ]
  },
  {
   "cell_type": "markdown",
   "id": "a3d52c0e-34e0-4087-a2e6-ca6e8f4fc404",
   "metadata": {},
   "source": [
    "##### Visualizing latitude and longitude correlation"
   ]
  },
  {
   "cell_type": "code",
   "execution_count": 210,
   "id": "d51df684-9e98-4f83-96f4-b1caa35b65a5",
   "metadata": {},
   "outputs": [
    {
     "data": {
      "image/png": "[encoded data removed]",
      "text/plain": [
       "<Figure size 600x400 with 1 Axes>"
      ]
     },
     "metadata": {},
     "output_type": "display_data"
    }
   ],
   "source": [
    "fig, ax = plt.subplots(figsize=(6,4))\n",
    "ax.scatter(housing_data[\"longitude\"], housing_data[\"latitude\"], color = 'green', alpha=0.1)\n",
    "ax.set_ylabel(\"Latitude\")\n",
    "ax.set_xlabel(\"Longitude\")\n",
    "plt.show()"
   ]
  },
  {
   "cell_type": "markdown",
   "id": "649c8783-c7e5-4df8-b05b-8b5d99efaa13",
   "metadata": {},
   "source": [
    "### Checking for Correlations between Features"
   ]
  },
  {
   "cell_type": "code",
   "execution_count": 211,
   "id": "aaac7275-d750-4569-ace6-eedfbea0bc2f",
   "metadata": {},
   "outputs": [
    {
     "name": "stdout",
     "output_type": "stream",
     "text": [
      "median_house_value    1.000000\n",
      "median_income         0.688075\n",
      "total_rooms           0.134153\n",
      "housing_median_age    0.105623\n",
      "households            0.065843\n",
      "total_bedrooms        0.049686\n",
      "population           -0.024650\n",
      "longitude            -0.045967\n",
      "latitude             -0.144160\n",
      "Name: median_house_value, dtype: float64\n"
     ]
    }
   ],
   "source": [
    "# Selecting only numeric columns for correlation matrix\n",
    "numeric_housing_data = housing_data.select_dtypes(include=[float, int])\n",
    "#Works for Numeric variables, so we filter numeric variables out using .select_dtypes\n",
    "\n",
    "corr_matrix = numeric_housing_data.corr()\n",
    "\n",
    "# Display correlation of each attribute with median_house_value\n",
    "print(corr_matrix[\"median_house_value\"].sort_values(ascending=False))"
   ]
  },
  {
   "cell_type": "markdown",
   "id": "5a68beba-8226-4552-b370-06149b191abc",
   "metadata": {},
   "source": [
    "## Machine Learning Preparation\n"
   ]
  },
  {
   "cell_type": "code",
   "execution_count": 212,
   "id": "08c5a941-ae76-47ba-b0c4-21e1539f6565",
   "metadata": {},
   "outputs": [],
   "source": [
    "X = housing_data.drop(\"median_house_value\", axis=1).copy()"
   ]
  },
  {
   "cell_type": "code",
   "execution_count": 213,
   "id": "b322758a-59f7-4db2-b617-423b3c9cbe49",
   "metadata": {},
   "outputs": [
    {
     "name": "stdout",
     "output_type": "stream",
     "text": [
      "<class 'pandas.core.frame.DataFrame'>\n",
      "RangeIndex: 20640 entries, 0 to 20639\n",
      "Data columns (total 9 columns):\n",
      " #   Column              Non-Null Count  Dtype  \n",
      "---  ------              --------------  -----  \n",
      " 0   longitude           20640 non-null  float64\n",
      " 1   latitude            20640 non-null  float64\n",
      " 2   housing_median_age  20640 non-null  float64\n",
      " 3   total_rooms         20640 non-null  float64\n",
      " 4   total_bedrooms      20433 non-null  float64\n",
      " 5   population          20640 non-null  float64\n",
      " 6   households          20640 non-null  float64\n",
      " 7   median_income       20640 non-null  float64\n",
      " 8   ocean_proximity     20640 non-null  object \n",
      "dtypes: float64(8), object(1)\n",
      "memory usage: 1.4+ MB\n"
     ]
    }
   ],
   "source": [
    "X.info()"
   ]
  },
  {
   "cell_type": "code",
   "execution_count": 214,
   "id": "0edf8d3e-fa6a-478f-88db-b6e5eddf965a",
   "metadata": {},
   "outputs": [],
   "source": [
    "y = housing_data[\"median_house_value\"].copy()\n",
    "##### Copy out the label data from the general dataset"
   ]
  },
  {
   "cell_type": "markdown",
   "id": "7af9759d-cdae-4953-a037-9aa9350a47b5",
   "metadata": {},
   "source": [
    "#### Missing Data"
   ]
  },
  {
   "cell_type": "code",
   "execution_count": 215,
   "id": "66e857f6-63a6-4c86-9449-d01155efff8a",
   "metadata": {},
   "outputs": [],
   "source": [
    "# Define Median from dataset\n",
    "#median = X[\"total_bedrooms\"].median() \n",
    "#imputer = SimpleImputer(strategy=\"median\")"
   ]
  },
  {
   "cell_type": "markdown",
   "id": "732426f5-827f-4261-88df-ed5bc7d218af",
   "metadata": {},
   "source": [
    "##### Categorical data needs to be dropped before applying SimpleImputer to feature with missing data"
   ]
  },
  {
   "cell_type": "code",
   "execution_count": 216,
   "id": "71ee73b0-1193-426f-948c-6df63af6bebc",
   "metadata": {},
   "outputs": [],
   "source": [
    "#drop categorical attribute to input median for missing values\n",
    "X_num = X.drop(\"ocean_proximity\", axis=1)"
   ]
  },
  {
   "cell_type": "code",
   "execution_count": 217,
   "id": "7ac01a2e-07ce-43af-95e6-59d4f72681ae",
   "metadata": {},
   "outputs": [
    {
     "data": {
      "text/html": [
       "<div>\n",
       "<style scoped>\n",
       "    .dataframe tbody tr th:only-of-type {\n",
       "        vertical-align: middle;\n",
       "    }\n",
       "\n",
       "    .dataframe tbody tr th {\n",
       "        vertical-align: top;\n",
       "    }\n",
       "\n",
       "    .dataframe thead th {\n",
       "        text-align: right;\n",
       "    }\n",
       "</style>\n",
       "<table border=\"1\" class=\"dataframe\">\n",
       "  <thead>\n",
       "    <tr style=\"text-align: right;\">\n",
       "      <th></th>\n",
       "      <th>longitude</th>\n",
       "      <th>latitude</th>\n",
       "      <th>housing_median_age</th>\n",
       "      <th>total_rooms</th>\n",
       "      <th>total_bedrooms</th>\n",
       "      <th>population</th>\n",
       "      <th>households</th>\n",
       "      <th>median_income</th>\n",
       "    </tr>\n",
       "  </thead>\n",
       "  <tbody>\n",
       "    <tr>\n",
       "      <th>0</th>\n",
       "      <td>-122.23</td>\n",
       "      <td>37.88</td>\n",
       "      <td>41.0</td>\n",
       "      <td>880.0</td>\n",
       "      <td>129.0</td>\n",
       "      <td>322.0</td>\n",
       "      <td>126.0</td>\n",
       "      <td>8.3252</td>\n",
       "    </tr>\n",
       "    <tr>\n",
       "      <th>1</th>\n",
       "      <td>-122.22</td>\n",
       "      <td>37.86</td>\n",
       "      <td>21.0</td>\n",
       "      <td>7099.0</td>\n",
       "      <td>1106.0</td>\n",
       "      <td>2401.0</td>\n",
       "      <td>1138.0</td>\n",
       "      <td>8.3014</td>\n",
       "    </tr>\n",
       "    <tr>\n",
       "      <th>2</th>\n",
       "      <td>-122.24</td>\n",
       "      <td>37.85</td>\n",
       "      <td>52.0</td>\n",
       "      <td>1467.0</td>\n",
       "      <td>190.0</td>\n",
       "      <td>496.0</td>\n",
       "      <td>177.0</td>\n",
       "      <td>7.2574</td>\n",
       "    </tr>\n",
       "    <tr>\n",
       "      <th>3</th>\n",
       "      <td>-122.25</td>\n",
       "      <td>37.85</td>\n",
       "      <td>52.0</td>\n",
       "      <td>1274.0</td>\n",
       "      <td>235.0</td>\n",
       "      <td>558.0</td>\n",
       "      <td>219.0</td>\n",
       "      <td>5.6431</td>\n",
       "    </tr>\n",
       "    <tr>\n",
       "      <th>4</th>\n",
       "      <td>-122.25</td>\n",
       "      <td>37.85</td>\n",
       "      <td>52.0</td>\n",
       "      <td>1627.0</td>\n",
       "      <td>280.0</td>\n",
       "      <td>565.0</td>\n",
       "      <td>259.0</td>\n",
       "      <td>3.8462</td>\n",
       "    </tr>\n",
       "    <tr>\n",
       "      <th>...</th>\n",
       "      <td>...</td>\n",
       "      <td>...</td>\n",
       "      <td>...</td>\n",
       "      <td>...</td>\n",
       "      <td>...</td>\n",
       "      <td>...</td>\n",
       "      <td>...</td>\n",
       "      <td>...</td>\n",
       "    </tr>\n",
       "    <tr>\n",
       "      <th>20635</th>\n",
       "      <td>-121.09</td>\n",
       "      <td>39.48</td>\n",
       "      <td>25.0</td>\n",
       "      <td>1665.0</td>\n",
       "      <td>374.0</td>\n",
       "      <td>845.0</td>\n",
       "      <td>330.0</td>\n",
       "      <td>1.5603</td>\n",
       "    </tr>\n",
       "    <tr>\n",
       "      <th>20636</th>\n",
       "      <td>-121.21</td>\n",
       "      <td>39.49</td>\n",
       "      <td>18.0</td>\n",
       "      <td>697.0</td>\n",
       "      <td>150.0</td>\n",
       "      <td>356.0</td>\n",
       "      <td>114.0</td>\n",
       "      <td>2.5568</td>\n",
       "    </tr>\n",
       "    <tr>\n",
       "      <th>20637</th>\n",
       "      <td>-121.22</td>\n",
       "      <td>39.43</td>\n",
       "      <td>17.0</td>\n",
       "      <td>2254.0</td>\n",
       "      <td>485.0</td>\n",
       "      <td>1007.0</td>\n",
       "      <td>433.0</td>\n",
       "      <td>1.7000</td>\n",
       "    </tr>\n",
       "    <tr>\n",
       "      <th>20638</th>\n",
       "      <td>-121.32</td>\n",
       "      <td>39.43</td>\n",
       "      <td>18.0</td>\n",
       "      <td>1860.0</td>\n",
       "      <td>409.0</td>\n",
       "      <td>741.0</td>\n",
       "      <td>349.0</td>\n",
       "      <td>1.8672</td>\n",
       "    </tr>\n",
       "    <tr>\n",
       "      <th>20639</th>\n",
       "      <td>-121.24</td>\n",
       "      <td>39.37</td>\n",
       "      <td>16.0</td>\n",
       "      <td>2785.0</td>\n",
       "      <td>616.0</td>\n",
       "      <td>1387.0</td>\n",
       "      <td>530.0</td>\n",
       "      <td>2.3886</td>\n",
       "    </tr>\n",
       "  </tbody>\n",
       "</table>\n",
       "<p>20640 rows × 8 columns</p>\n",
       "</div>"
      ],
      "text/plain": [
       "       longitude  latitude  housing_median_age  total_rooms  total_bedrooms  \\\n",
       "0        -122.23     37.88                41.0        880.0           129.0   \n",
       "1        -122.22     37.86                21.0       7099.0          1106.0   \n",
       "2        -122.24     37.85                52.0       1467.0           190.0   \n",
       "3        -122.25     37.85                52.0       1274.0           235.0   \n",
       "4        -122.25     37.85                52.0       1627.0           280.0   \n",
       "...          ...       ...                 ...          ...             ...   \n",
       "20635    -121.09     39.48                25.0       1665.0           374.0   \n",
       "20636    -121.21     39.49                18.0        697.0           150.0   \n",
       "20637    -121.22     39.43                17.0       2254.0           485.0   \n",
       "20638    -121.32     39.43                18.0       1860.0           409.0   \n",
       "20639    -121.24     39.37                16.0       2785.0           616.0   \n",
       "\n",
       "       population  households  median_income  \n",
       "0           322.0       126.0         8.3252  \n",
       "1          2401.0      1138.0         8.3014  \n",
       "2           496.0       177.0         7.2574  \n",
       "3           558.0       219.0         5.6431  \n",
       "4           565.0       259.0         3.8462  \n",
       "...           ...         ...            ...  \n",
       "20635       845.0       330.0         1.5603  \n",
       "20636       356.0       114.0         2.5568  \n",
       "20637      1007.0       433.0         1.7000  \n",
       "20638       741.0       349.0         1.8672  \n",
       "20639      1387.0       530.0         2.3886  \n",
       "\n",
       "[20640 rows x 8 columns]"
      ]
     },
     "execution_count": 217,
     "metadata": {},
     "output_type": "execute_result"
    }
   ],
   "source": [
    "X_num"
   ]
  },
  {
   "cell_type": "markdown",
   "id": "d7c00518-653f-49ad-8488-0b80078ba61c",
   "metadata": {},
   "source": [
    "#### SimpleImputer for Handling Missing value\n"
   ]
  },
  {
   "cell_type": "markdown",
   "id": "fd7a668d-32e9-4e4c-9e5a-9c68d5ed5f47",
   "metadata": {},
   "source": [
    "##### fit method: This computes the statistics (median values) needed to fill in the missing values for each column."
   ]
  },
  {
   "cell_type": "code",
   "execution_count": 218,
   "id": "4eba644f-2aaf-4980-8276-99c3b28c0356",
   "metadata": {},
   "outputs": [],
   "source": [
    "#to fit the median directly in the data where there are missing values\n",
    "#imputer.fit(X_num)"
   ]
  },
  {
   "cell_type": "code",
   "execution_count": 219,
   "id": "15eef6c1-db09-4d1f-a3b2-e3e3ad50b23f",
   "metadata": {},
   "outputs": [],
   "source": [
    "#imputer.statistics_"
   ]
  },
  {
   "cell_type": "code",
   "execution_count": 220,
   "id": "43b75ef7-e46b-46a1-838d-99e00f9103f2",
   "metadata": {},
   "outputs": [],
   "source": [
    "#Personal checking of the median of each attribute\n",
    "#X.describe() #50% shows and confirms the same values computed by simpleimputer"
   ]
  },
  {
   "cell_type": "code",
   "execution_count": 221,
   "id": "4b25fbae-e4de-4508-82e5-d435cd1caaee",
   "metadata": {},
   "outputs": [],
   "source": [
    "#x = imputer.transform(X_num)\n",
    "#x[:5]"
   ]
  },
  {
   "cell_type": "markdown",
   "id": "281cb44f-cae0-41e2-a98b-a11b3a4c90ac",
   "metadata": {},
   "source": [
    "The result is a plain NumPy array containing the transformed features. To change the dataset back to Pandas DataFrame"
   ]
  },
  {
   "cell_type": "code",
   "execution_count": 222,
   "id": "3907f1cd-8a73-4b3e-88c8-e3ae730fd218",
   "metadata": {},
   "outputs": [],
   "source": [
    "#housing_tr = pd.DataFrame(x, columns=X_num.columns)\n",
    "#housing_tr.isnull().sum() #Now there are no missing data"
   ]
  },
  {
   "cell_type": "markdown",
   "id": "219208b7-9b8e-4baa-b347-9e8971411617",
   "metadata": {},
   "source": [
    "### Handling Text and Categorical Attributes \n",
    "Most Machine Learning algorithms prefer to work with numbers, so we convert these categories from text to numbers. "
   ]
  },
  {
   "cell_type": "code",
   "execution_count": 223,
   "id": "40514c0f-8b93-4f15-abad-438af02c81c2",
   "metadata": {},
   "outputs": [],
   "source": [
    "#housing_cat = X[[\"ocean_proximity\"]]"
   ]
  },
  {
   "cell_type": "markdown",
   "id": "7d7c7400-052b-4543-850e-0fc263de7665",
   "metadata": {},
   "source": [
    "#### Using One-hot Encoding to convert categoricary to numeric value that machine learning can use"
   ]
  },
  {
   "cell_type": "code",
   "execution_count": 224,
   "id": "5eefdead-0405-4da6-b531-83a58a301944",
   "metadata": {},
   "outputs": [],
   "source": [
    "# Create OneHotEncoder instance\n",
    "#cat_encoder = OneHotEncoder()\n",
    "\n",
    "# Fit and transform the data\n",
    "#housing_cat_1hot = cat_encoder.fit_transform(housing_cat)"
   ]
  },
  {
   "cell_type": "code",
   "execution_count": 225,
   "id": "409a5f82-5d9f-4313-84de-3097f5910295",
   "metadata": {},
   "outputs": [],
   "source": [
    "# Convert to array for better readability\n",
    "#housing_cat_1hot_array = housing_cat_1hot.toarray()\n",
    "\n",
    "# Display the result\n",
    "#print(housing_cat_1hot_array)"
   ]
  },
  {
   "cell_type": "markdown",
   "id": "748739d8-8739-4b8f-aebd-2bacde97c5a9",
   "metadata": {},
   "source": [
    "After one- hot encoding we get a matrix with thousands of columns, and the matrix is full of zeros except for a single 1 per row. If a categorical attribute has a large number of possible categories (e.g., country code, profession, species, etc.), then one-hot encoding will result in a large number of input features. This may slow down training and degrade performance. "
   ]
  },
  {
   "cell_type": "code",
   "execution_count": 226,
   "id": "8ac24876-7052-40b8-ae9c-fa6610f097d3",
   "metadata": {},
   "outputs": [],
   "source": [
    "#cat_encoder.categories_"
   ]
  },
  {
   "cell_type": "markdown",
   "id": "b6c4b1c5-4bae-4ae4-9e29-46f1fbc05141",
   "metadata": {},
   "source": [
    "####\n",
    "Feature Scaling\n",
    "Using Standardization"
   ]
  },
  {
   "cell_type": "code",
   "execution_count": 227,
   "id": "261e901c-fe0f-47ff-8a48-31ef099771df",
   "metadata": {},
   "outputs": [],
   "source": [
    "#num_pipeline = Pipeline([('imputer', SimpleImputer(strategy=\"median\")),  # Handle missing values\n",
    "#                         ('std_scaler', StandardScaler()),]) # Standardize features\n",
    "\n",
    "#training_num_tr = num_pipeline.fit_transform(X_num) #Transform fit data to an array\n",
    "#training_num_tr"
   ]
  },
  {
   "cell_type": "markdown",
   "id": "64f2d468-d3f0-4d24-aac7-d9edb8f80925",
   "metadata": {},
   "source": [
    "## ColumnTransformer\n",
    "To preprocess both numerical and categorical features at once instead of individually as specified above, this ColumnTransformer pipeline fills missing values with the median for numeric data, applies one-hot encoding for categorical data, and then performs feature scaling to normalize the values."
   ]
  },
  {
   "cell_type": "code",
   "execution_count": 228,
   "id": "e9595e81-6011-4fde-bb73-068b5dd630e8",
   "metadata": {},
   "outputs": [],
   "source": [
    "number_attrib = list(X_num.columns) \n",
    "category_attribs = [\"ocean_proximity\"]\n",
    "\n",
    "# Define the numerical and categorical pipelines\n",
    "num_pipeline = Pipeline([\n",
    "    ('imputer', SimpleImputer(strategy=\"median\")),  # Handle missing values\n",
    "    ('std_scaler', StandardScaler())  # Standardize features\n",
    "])\n",
    "\n",
    "# Full pipeline with ColumnTransformer\n",
    "full_pipeline = ColumnTransformer([\n",
    "    (\"num\", num_pipeline, number_attrib), \n",
    "    (\"cat\", OneHotEncoder(), category_attribs)\n",
    "])\n",
    "\n",
    "# Apply the full pipeline to the data \n",
    "X_cleaned = full_pipeline.fit_transform(X)"
   ]
  },
  {
   "cell_type": "code",
   "execution_count": 229,
   "id": "d66a7490-005b-431f-b093-0463291fba4e",
   "metadata": {},
   "outputs": [
    {
     "data": {
      "text/plain": [
       "array([[-1.32783522,  1.05254828,  0.98214266, ...,  0.        ,\n",
       "         1.        ,  0.        ],\n",
       "       [-1.32284391,  1.04318455, -0.60701891, ...,  0.        ,\n",
       "         1.        ,  0.        ],\n",
       "       [-1.33282653,  1.03850269,  1.85618152, ...,  0.        ,\n",
       "         1.        ,  0.        ],\n",
       "       ...,\n",
       "       [-0.8237132 ,  1.77823747, -0.92485123, ...,  0.        ,\n",
       "         0.        ,  0.        ],\n",
       "       [-0.87362627,  1.77823747, -0.84539315, ...,  0.        ,\n",
       "         0.        ,  0.        ],\n",
       "       [-0.83369581,  1.75014627, -1.00430931, ...,  0.        ,\n",
       "         0.        ,  0.        ]])"
      ]
     },
     "execution_count": 229,
     "metadata": {},
     "output_type": "execute_result"
    }
   ],
   "source": [
    "X_cleaned"
   ]
  },
  {
   "cell_type": "markdown",
   "id": "cc48e89f-4290-462f-8de7-c1ae06d50e3d",
   "metadata": {},
   "source": [
    "### Linear Regression Model"
   ]
  },
  {
   "cell_type": "markdown",
   "id": "549bd7a2-6c44-4b51-bf55-09b19c3d6eb8",
   "metadata": {},
   "source": [
    "#### Scikit-Learn Design: Detailed Summary and Explanation\n",
    "##### Major Steps\n",
    "+ Instantiate with the Library object\n",
    "+ Fit and Transform\n",
    "+ Predict\n",
    "\n"
   ]
  },
  {
   "cell_type": "code",
   "execution_count": 230,
   "id": "88183c2f-afc6-4d9c-813e-5479e2743e6c",
   "metadata": {},
   "outputs": [],
   "source": [
    "X_train, X_test, y_train, y_test = train_test_split(X_cleaned, y, random_state=42)"
   ]
  },
  {
   "cell_type": "code",
   "execution_count": 231,
   "id": "e5dc513d-f8d1-491c-9005-77b17304f5c9",
   "metadata": {},
   "outputs": [],
   "source": [
    "#Instantiate the Model\n",
    "linReg = LinearRegression()"
   ]
  },
  {
   "cell_type": "code",
   "execution_count": 232,
   "id": "550ee99a-2371-43fa-99d5-b7177fd819c9",
   "metadata": {},
   "outputs": [
    {
     "data": {
      "text/html": [
       "<style>#sk-container-id-10 {color: black;background-color: white;}#sk-container-id-10 pre{padding: 0;}#sk-container-id-10 div.sk-toggleable {background-color: white;}#sk-container-id-10 label.sk-toggleable__label {cursor: pointer;display: block;width: 100%;margin-bottom: 0;padding: 0.3em;box-sizing: border-box;text-align: center;}#sk-container-id-10 label.sk-toggleable__label-arrow:before {content: \"▸\";float: left;margin-right: 0.25em;color: #696969;}#sk-container-id-10 label.sk-toggleable__label-arrow:hover:before {color: black;}#sk-container-id-10 div.sk-estimator:hover label.sk-toggleable__label-arrow:before {color: black;}#sk-container-id-10 div.sk-toggleable__content {max-height: 0;max-width: 0;overflow: hidden;text-align: left;background-color: #f0f8ff;}#sk-container-id-10 div.sk-toggleable__content pre {margin: 0.2em;color: black;border-radius: 0.25em;background-color: #f0f8ff;}#sk-container-id-10 input.sk-toggleable__control:checked~div.sk-toggleable__content {max-height: 200px;max-width: 100%;overflow: auto;}#sk-container-id-10 input.sk-toggleable__control:checked~label.sk-toggleable__label-arrow:before {content: \"▾\";}#sk-container-id-10 div.sk-estimator input.sk-toggleable__control:checked~label.sk-toggleable__label {background-color: #d4ebff;}#sk-container-id-10 div.sk-label input.sk-toggleable__control:checked~label.sk-toggleable__label {background-color: #d4ebff;}#sk-container-id-10 input.sk-hidden--visually {border: 0;clip: rect(1px 1px 1px 1px);clip: rect(1px, 1px, 1px, 1px);height: 1px;margin: -1px;overflow: hidden;padding: 0;position: absolute;width: 1px;}#sk-container-id-10 div.sk-estimator {font-family: monospace;background-color: #f0f8ff;border: 1px dotted black;border-radius: 0.25em;box-sizing: border-box;margin-bottom: 0.5em;}#sk-container-id-10 div.sk-estimator:hover {background-color: #d4ebff;}#sk-container-id-10 div.sk-parallel-item::after {content: \"\";width: 100%;border-bottom: 1px solid gray;flex-grow: 1;}#sk-container-id-10 div.sk-label:hover label.sk-toggleable__label {background-color: #d4ebff;}#sk-container-id-10 div.sk-serial::before {content: \"\";position: absolute;border-left: 1px solid gray;box-sizing: border-box;top: 0;bottom: 0;left: 50%;z-index: 0;}#sk-container-id-10 div.sk-serial {display: flex;flex-direction: column;align-items: center;background-color: white;padding-right: 0.2em;padding-left: 0.2em;position: relative;}#sk-container-id-10 div.sk-item {position: relative;z-index: 1;}#sk-container-id-10 div.sk-parallel {display: flex;align-items: stretch;justify-content: center;background-color: white;position: relative;}#sk-container-id-10 div.sk-item::before, #sk-container-id-10 div.sk-parallel-item::before {content: \"\";position: absolute;border-left: 1px solid gray;box-sizing: border-box;top: 0;bottom: 0;left: 50%;z-index: -1;}#sk-container-id-10 div.sk-parallel-item {display: flex;flex-direction: column;z-index: 1;position: relative;background-color: white;}#sk-container-id-10 div.sk-parallel-item:first-child::after {align-self: flex-end;width: 50%;}#sk-container-id-10 div.sk-parallel-item:last-child::after {align-self: flex-start;width: 50%;}#sk-container-id-10 div.sk-parallel-item:only-child::after {width: 0;}#sk-container-id-10 div.sk-dashed-wrapped {border: 1px dashed gray;margin: 0 0.4em 0.5em 0.4em;box-sizing: border-box;padding-bottom: 0.4em;background-color: white;}#sk-container-id-10 div.sk-label label {font-family: monospace;font-weight: bold;display: inline-block;line-height: 1.2em;}#sk-container-id-10 div.sk-label-container {text-align: center;}#sk-container-id-10 div.sk-container {/* jupyter's `normalize.less` sets `[hidden] { display: none; }` but bootstrap.min.css set `[hidden] { display: none !important; }` so we also need the `!important` here to be able to override the default hidden behavior on the sphinx rendered scikit-learn.org. See: https://github.com/scikit-learn/scikit-learn/issues/21755 */display: inline-block !important;position: relative;}#sk-container-id-10 div.sk-text-repr-fallback {display: none;}</style><div id=\"sk-container-id-10\" class=\"sk-top-container\"><div class=\"sk-text-repr-fallback\"><pre>LinearRegression()</pre><b>In a Jupyter environment, please rerun this cell to show the HTML representation or trust the notebook. <br />On GitHub, the HTML representation is unable to render, please try loading this page with nbviewer.org.</b></div><div class=\"sk-container\" hidden><div class=\"sk-item\"><div class=\"sk-estimator sk-toggleable\"><input class=\"sk-toggleable__control sk-hidden--visually\" id=\"sk-estimator-id-10\" type=\"checkbox\" checked><label for=\"sk-estimator-id-10\" class=\"sk-toggleable__label sk-toggleable__label-arrow\">LinearRegression</label><div class=\"sk-toggleable__content\"><pre>LinearRegression()</pre></div></div></div></div></div>"
      ],
      "text/plain": [
       "LinearRegression()"
      ]
     },
     "execution_count": 232,
     "metadata": {},
     "output_type": "execute_result"
    }
   ],
   "source": [
    "#Train the Model\n",
    "#The fit method trains the Linear Regression model on the provided data.\n",
    "linReg.fit(X_train, y_train)"
   ]
  },
  {
   "cell_type": "code",
   "execution_count": 233,
   "id": "e2fb6150-dba5-4710-9de5-0a824428c543",
   "metadata": {},
   "outputs": [
    {
     "name": "stdout",
     "output_type": "stream",
     "text": [
      "Coefficients: [-5.31785161e+04 -5.33228270e+04  1.38003281e+04 -1.30635569e+04\n",
      "  4.44005701e+04 -4.31281298e+04  1.70208045e+04  7.46418173e+04\n",
      " -2.68630408e+17 -2.68630408e+17 -2.68630408e+17 -2.68630408e+17\n",
      " -2.68630408e+17]\n"
     ]
    }
   ],
   "source": [
    "print(\"Coefficients:\", linReg.coef_)"
   ]
  },
  {
   "cell_type": "code",
   "execution_count": 234,
   "id": "80a97e6e-a316-4851-8fc5-7d84a79ba0a6",
   "metadata": {},
   "outputs": [
    {
     "name": "stdout",
     "output_type": "stream",
     "text": [
      "Intercept: 2.6863040836577558e+17\n"
     ]
    }
   ],
   "source": [
    "print(\"Intercept:\", linReg.intercept_)"
   ]
  },
  {
   "cell_type": "markdown",
   "id": "b50a1a81-6eb5-4c1f-8d3b-6586238b1ce9",
   "metadata": {},
   "source": [
    "**y = coefficients * x + 2.69**"
   ]
  },
  {
   "cell_type": "code",
   "execution_count": 235,
   "id": "6f46698e-3169-4534-8ef4-178e0df891d3",
   "metadata": {},
   "outputs": [],
   "source": [
    "test_house = X.iloc[:5] \n",
    "test_labels = y.iloc[:5]\n",
    "test_predict= full_pipeline.transform(test_house)"
   ]
  },
  {
   "cell_type": "code",
   "execution_count": 236,
   "id": "02088282-0e55-422b-8aa2-667f1b8bfe95",
   "metadata": {},
   "outputs": [
    {
     "name": "stdout",
     "output_type": "stream",
     "text": [
      "Prediction: [409344. 418816. 379072. 321344. 254880.]\n"
     ]
    }
   ],
   "source": [
    "print(\"Prediction:\", linReg.predict(test_predict))"
   ]
  },
  {
   "cell_type": "code",
   "execution_count": 237,
   "id": "f12b3f6e-304d-4e7b-99cb-e3eb099e02d0",
   "metadata": {},
   "outputs": [
    {
     "name": "stdout",
     "output_type": "stream",
     "text": [
      "Labels: [452600.0, 358500.0, 352100.0, 341300.0, 342200.0]\n"
     ]
    }
   ],
   "source": [
    "print(\"Labels:\", list(test_labels))"
   ]
  },
  {
   "cell_type": "markdown",
   "id": "29c51ead-7fe7-4764-aaec-05023e283e95",
   "metadata": {},
   "source": [
    "Predictions seemed to be a little close"
   ]
  },
  {
   "cell_type": "markdown",
   "id": "7e2d15ad-7457-4c9c-9b76-8a39965e1eb5",
   "metadata": {},
   "source": [
    "#### Calculating mean squared error\n",
    "The mean_squared_error function is used to calculate the mean squared error (MSE) between the actual and predicted values."
   ]
  },
  {
   "cell_type": "code",
   "execution_count": 238,
   "id": "1a77c997-0481-4891-a1e1-19ed22cdf8f0",
   "metadata": {},
   "outputs": [
    {
     "name": "stdout",
     "output_type": "stream",
     "text": [
      "Mean Squared Error: 68611.32060219506\n"
     ]
    }
   ],
   "source": [
    "from sklearn.metrics import mean_squared_error, r2_score\n",
    "\n",
    "# Predict on the training set\n",
    "predictions = linReg.predict(X_train)\n",
    "\n",
    "# Calculate MSE\n",
    "mse = mean_squared_error(y_train, predictions)\n",
    "lin_rmse = np.sqrt(mse)\n",
    "print(\"Mean Squared Error:\", lin_rmse)\n"
   ]
  },
  {
   "cell_type": "code",
   "execution_count": 239,
   "id": "c8c24e0d-45b7-43c7-bb72-3e6db2cf969c",
   "metadata": {},
   "outputs": [
    {
     "name": "stdout",
     "output_type": "stream",
     "text": [
      "R² Score: 0.6471962191231917\n"
     ]
    }
   ],
   "source": [
    "# Calculate R² Score\n",
    "r2 = r2_score(y_train, predictions)\n",
    "print(\"R² Score:\", r2)"
   ]
  },
  {
   "cell_type": "code",
   "execution_count": 240,
   "id": "0d031eac-f84d-4619-8753-59f1f2fadbd8",
   "metadata": {},
   "outputs": [
    {
     "name": "stdout",
     "output_type": "stream",
     "text": [
      "               Metric         Value\n",
      "0  Mean Squared Error  68611.320602\n",
      "1            R² Score      0.647196\n"
     ]
    }
   ],
   "source": [
    "# Create a DataFrame to display the results\n",
    "results = pd.DataFrame({\n",
    "    'Metric': ['Mean Squared Error', 'R² Score'],\n",
    "    'Value': [lin_rmse, r2]\n",
    "})\n",
    "# Display the results table\n",
    "print(results)\n"
   ]
  },
  {
   "cell_type": "markdown",
   "id": "aa666e88-e1f0-4df2-a886-7f1df7579e7d",
   "metadata": {},
   "source": [
    "High MSE of 68633.408108 suggests that there is a significant difference between the predicted and actual values. \n",
    "R² Score of 0.648099 means that approximately 64.72% of the variance in the target variable can be explained by the model. "
   ]
  },
  {
   "cell_type": "markdown",
   "id": "912682b7-a510-460e-b095-848779b1ec88",
   "metadata": {},
   "source": [
    "#### Trying another model- Decision Tree Regression"
   ]
  },
  {
   "cell_type": "code",
   "execution_count": 241,
   "id": "7ba15340-84a3-42a0-8885-02f9a173fb6b",
   "metadata": {},
   "outputs": [
    {
     "data": {
      "text/html": [
       "<style>#sk-container-id-11 {color: black;background-color: white;}#sk-container-id-11 pre{padding: 0;}#sk-container-id-11 div.sk-toggleable {background-color: white;}#sk-container-id-11 label.sk-toggleable__label {cursor: pointer;display: block;width: 100%;margin-bottom: 0;padding: 0.3em;box-sizing: border-box;text-align: center;}#sk-container-id-11 label.sk-toggleable__label-arrow:before {content: \"▸\";float: left;margin-right: 0.25em;color: #696969;}#sk-container-id-11 label.sk-toggleable__label-arrow:hover:before {color: black;}#sk-container-id-11 div.sk-estimator:hover label.sk-toggleable__label-arrow:before {color: black;}#sk-container-id-11 div.sk-toggleable__content {max-height: 0;max-width: 0;overflow: hidden;text-align: left;background-color: #f0f8ff;}#sk-container-id-11 div.sk-toggleable__content pre {margin: 0.2em;color: black;border-radius: 0.25em;background-color: #f0f8ff;}#sk-container-id-11 input.sk-toggleable__control:checked~div.sk-toggleable__content {max-height: 200px;max-width: 100%;overflow: auto;}#sk-container-id-11 input.sk-toggleable__control:checked~label.sk-toggleable__label-arrow:before {content: \"▾\";}#sk-container-id-11 div.sk-estimator input.sk-toggleable__control:checked~label.sk-toggleable__label {background-color: #d4ebff;}#sk-container-id-11 div.sk-label input.sk-toggleable__control:checked~label.sk-toggleable__label {background-color: #d4ebff;}#sk-container-id-11 input.sk-hidden--visually {border: 0;clip: rect(1px 1px 1px 1px);clip: rect(1px, 1px, 1px, 1px);height: 1px;margin: -1px;overflow: hidden;padding: 0;position: absolute;width: 1px;}#sk-container-id-11 div.sk-estimator {font-family: monospace;background-color: #f0f8ff;border: 1px dotted black;border-radius: 0.25em;box-sizing: border-box;margin-bottom: 0.5em;}#sk-container-id-11 div.sk-estimator:hover {background-color: #d4ebff;}#sk-container-id-11 div.sk-parallel-item::after {content: \"\";width: 100%;border-bottom: 1px solid gray;flex-grow: 1;}#sk-container-id-11 div.sk-label:hover label.sk-toggleable__label {background-color: #d4ebff;}#sk-container-id-11 div.sk-serial::before {content: \"\";position: absolute;border-left: 1px solid gray;box-sizing: border-box;top: 0;bottom: 0;left: 50%;z-index: 0;}#sk-container-id-11 div.sk-serial {display: flex;flex-direction: column;align-items: center;background-color: white;padding-right: 0.2em;padding-left: 0.2em;position: relative;}#sk-container-id-11 div.sk-item {position: relative;z-index: 1;}#sk-container-id-11 div.sk-parallel {display: flex;align-items: stretch;justify-content: center;background-color: white;position: relative;}#sk-container-id-11 div.sk-item::before, #sk-container-id-11 div.sk-parallel-item::before {content: \"\";position: absolute;border-left: 1px solid gray;box-sizing: border-box;top: 0;bottom: 0;left: 50%;z-index: -1;}#sk-container-id-11 div.sk-parallel-item {display: flex;flex-direction: column;z-index: 1;position: relative;background-color: white;}#sk-container-id-11 div.sk-parallel-item:first-child::after {align-self: flex-end;width: 50%;}#sk-container-id-11 div.sk-parallel-item:last-child::after {align-self: flex-start;width: 50%;}#sk-container-id-11 div.sk-parallel-item:only-child::after {width: 0;}#sk-container-id-11 div.sk-dashed-wrapped {border: 1px dashed gray;margin: 0 0.4em 0.5em 0.4em;box-sizing: border-box;padding-bottom: 0.4em;background-color: white;}#sk-container-id-11 div.sk-label label {font-family: monospace;font-weight: bold;display: inline-block;line-height: 1.2em;}#sk-container-id-11 div.sk-label-container {text-align: center;}#sk-container-id-11 div.sk-container {/* jupyter's `normalize.less` sets `[hidden] { display: none; }` but bootstrap.min.css set `[hidden] { display: none !important; }` so we also need the `!important` here to be able to override the default hidden behavior on the sphinx rendered scikit-learn.org. See: https://github.com/scikit-learn/scikit-learn/issues/21755 */display: inline-block !important;position: relative;}#sk-container-id-11 div.sk-text-repr-fallback {display: none;}</style><div id=\"sk-container-id-11\" class=\"sk-top-container\"><div class=\"sk-text-repr-fallback\"><pre>DecisionTreeRegressor()</pre><b>In a Jupyter environment, please rerun this cell to show the HTML representation or trust the notebook. <br />On GitHub, the HTML representation is unable to render, please try loading this page with nbviewer.org.</b></div><div class=\"sk-container\" hidden><div class=\"sk-item\"><div class=\"sk-estimator sk-toggleable\"><input class=\"sk-toggleable__control sk-hidden--visually\" id=\"sk-estimator-id-11\" type=\"checkbox\" checked><label for=\"sk-estimator-id-11\" class=\"sk-toggleable__label sk-toggleable__label-arrow\">DecisionTreeRegressor</label><div class=\"sk-toggleable__content\"><pre>DecisionTreeRegressor()</pre></div></div></div></div></div>"
      ],
      "text/plain": [
       "DecisionTreeRegressor()"
      ]
     },
     "execution_count": 241,
     "metadata": {},
     "output_type": "execute_result"
    }
   ],
   "source": [
    "regTree = DecisionTreeRegressor()\n",
    "regTree.fit(X_train, y_train)"
   ]
  },
  {
   "cell_type": "code",
   "execution_count": 242,
   "id": "0559190b-e3ca-442b-af7c-d00034cc6c3e",
   "metadata": {},
   "outputs": [
    {
     "name": "stdout",
     "output_type": "stream",
     "text": [
      "[228500. 279900. 183000. ... 222100. 283500. 325000.]\n"
     ]
    }
   ],
   "source": [
    "housing_predict = regTree.predict(X_train)\n",
    "print(housing_predict)"
   ]
  },
  {
   "cell_type": "code",
   "execution_count": 243,
   "id": "731fa9eb-7c3b-4537-97c4-d3835e6b6715",
   "metadata": {},
   "outputs": [
    {
     "data": {
      "text/plain": [
       "0.0"
      ]
     },
     "execution_count": 243,
     "metadata": {},
     "output_type": "execute_result"
    }
   ],
   "source": [
    "tree_mse = mean_squared_error(y_train, housing_predict) \n",
    "tree_rmse = np.sqrt(tree_mse)\n",
    "tree_rmse"
   ]
  },
  {
   "cell_type": "markdown",
   "id": "6243d228-6925-441e-8204-200e179ebe86",
   "metadata": {},
   "source": [
    "#### Comparing linear regression and decision tree regression\n",
    "Decision tree has a smaller value compared to linear regression but this shows its probably too fitting to the training data"
   ]
  },
  {
   "cell_type": "markdown",
   "id": "680bfd38-a8fd-4821-b745-e3357c73a996",
   "metadata": {},
   "source": [
    "### Decision tree Evaluation Using Cross-Validation"
   ]
  },
  {
   "cell_type": "code",
   "execution_count": 244,
   "id": "f4c4ef8f-2e6d-4602-9ac5-1517bdd52ab4",
   "metadata": {},
   "outputs": [],
   "source": [
    "score_eval = cross_val_score(regTree,X_train, y_train, scoring=\"neg_mean_squared_error\", cv=10)\n",
    "# Convert scores to positive RMSE\n",
    "rmse_scores = np.sqrt(-score_eval)"
   ]
  },
  {
   "cell_type": "code",
   "execution_count": 245,
   "id": "888b3d60-58a0-41b0-8da8-05eafc7365df",
   "metadata": {},
   "outputs": [
    {
     "name": "stdout",
     "output_type": "stream",
     "text": [
      "Cross-Validation RMSE Scores: \n",
      " [69126.16756364 72082.79527272 67801.37067885 67142.83033027\n",
      " 71685.75258599 69871.46643112 65397.3613525  70872.68006884\n",
      " 67931.1925783  66548.14089632]\n",
      "Mean RMSE: \n",
      " 68845.97577585254\n",
      "Standard Deviation: \n",
      " 2139.642977004283\n"
     ]
    }
   ],
   "source": [
    "# Display the results\n",
    "print(\"Cross-Validation RMSE Scores:\", '\\n', rmse_scores)\n",
    "print(\"Mean RMSE:\", '\\n', rmse_scores.mean())\n",
    "print(\"Standard Deviation:\", '\\n', rmse_scores.std())"
   ]
  },
  {
   "cell_type": "markdown",
   "id": "62193d6c-60da-41e6-8299-05fb107896ee",
   "metadata": {},
   "source": [
    "The very large between training and cross-validation RMSE is a clear sign of overfitting. This is expected since there were no prior limitation to tree growth set, like pruning the tree which limits the maximum depth of the tree or sets a minimum number of samples required to split a node (min_samples_split)"
   ]
  },
  {
   "cell_type": "markdown",
   "id": "08210b84-b6ed-43fc-9e41-2fadcdc2c9a1",
   "metadata": {},
   "source": [
    "#### Cross Validation for linear regression model"
   ]
  },
  {
   "cell_type": "code",
   "execution_count": 246,
   "id": "ec70915f-e90b-4bb6-9677-cf2137e292a0",
   "metadata": {},
   "outputs": [],
   "source": [
    "#AT ten-fold\n",
    "lm_score = cross_val_score(linReg, housing_cleaned, housing_labels, scoring=\"neg_mean_squared_error\", cv=10)\n",
    "# Convert scores to positive RMSE\n",
    "lmse_scores = np.sqrt(-lm_score)"
   ]
  },
  {
   "cell_type": "code",
   "execution_count": 247,
   "id": "48fc0339-a12e-4641-a0ed-82d0189e15d1",
   "metadata": {},
   "outputs": [
    {
     "name": "stdout",
     "output_type": "stream",
     "text": [
      "Cross-Validation LMSE Scores: \n",
      " [8.56458558e+04 5.97110814e+04 8.80475888e+04 6.28385880e+04\n",
      " 5.30515127e+15 6.96734145e+04 5.24805983e+04 9.16195064e+04\n",
      " 7.81742252e+04 5.35139860e+04]\n",
      "Mean LMSE: \n",
      " 530515127033216.9\n",
      "Standard Deviation: \n",
      " 1591545380885749.2\n"
     ]
    }
   ],
   "source": [
    "# Display the results\n",
    "print(\"Cross-Validation LMSE Scores:\", '\\n', lmse_scores)\n",
    "print(\"Mean LMSE:\", '\\n', lmse_scores.mean())\n",
    "print(\"Standard Deviation:\", '\\n', lmse_scores.std())"
   ]
  },
  {
   "cell_type": "markdown",
   "id": "6f7e2f11-95f6-40ab-8c4c-6ea8899cbeec",
   "metadata": {},
   "source": [
    "The similarity between training MSE (68,611) and cross-validation MSE mean (69,116) suggests that the Linear Regresssion model generalizes reasonably well compared to the regression tree"
   ]
  },
  {
   "cell_type": "markdown",
   "id": "e8018cd3-f4f4-4b06-92f4-c31996eee3c3",
   "metadata": {},
   "source": [
    "Other further evaluation for the regression model includes: Ensemble Method (with Random forest), Hyperparameter Tuning\n",
    "while for the linear Regression despite performing well with cross-validation still require further steps like Feature Engineering, regularization like Ridge (L2) or Lasso (L1), and Hyperparameter Tuning of alpha for L1 and L2"
   ]
  }
 ],
 "metadata": {
  "kernelspec": {
   "display_name": "Python 3 (ipykernel)",
   "language": "python",
   "name": "python3"
  },
  "language_info": {
   "codemirror_mode": {
    "name": "ipython",
    "version": 3
   },
   "file_extension": ".py",
   "mimetype": "text/x-python",
   "name": "python",
   "nbconvert_exporter": "python",
   "pygments_lexer": "ipython3",
   "version": "3.11.7"
  }
 },
 "nbformat": 4,
 "nbformat_minor": 5
}
